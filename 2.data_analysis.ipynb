{
 "cells": [
  {
   "cell_type": "markdown",
   "metadata": {},
   "source": [
    "After cleaning data now we can analyze cleaned data. First we import pandas and matplotlib then read data_cleaned.csv file."
   ]
  },
  {
   "cell_type": "code",
   "execution_count": 1,
   "metadata": {
    "id": "OMEgK0c3An40"
   },
   "outputs": [],
   "source": [
    "import pandas as pd\n",
    "import matplotlib.pyplot as plt\n",
    "%matplotlib inline\n",
    "df = pd.read_csv('data_cleaned.csv', parse_dates =['date'])"
   ]
  },
  {
   "cell_type": "markdown",
   "metadata": {
    "id": "exV7sINXsb0p"
   },
   "source": [
    "Question 1: What is our average hourly electricity usage?"
   ]
  },
  {
   "cell_type": "code",
   "execution_count": 2,
   "metadata": {
    "id": "UW2bmA0zwIIq"
   },
   "outputs": [
    {
     "data": {
      "text/plain": [
       "0.782"
      ]
     },
     "execution_count": 2,
     "metadata": {},
     "output_type": "execute_result"
    }
   ],
   "source": [
    "hourly_ect_usage = df['kwh'].mean()\n",
    "round(hourly_ect_usage, 3)"
   ]
  },
  {
   "cell_type": "markdown",
   "metadata": {
    "id": "WMNokYTOxTqf"
   },
   "source": [
    "Question 2: What is our electricity usage per month? (for ordering months properly we'll reindex it)"
   ]
  },
  {
   "cell_type": "code",
   "execution_count": 3,
   "metadata": {
    "id": "pcynDWyHxpta"
   },
   "outputs": [
    {
     "name": "stdout",
     "output_type": "stream",
     "text": [
      "date\n",
      "January      1042.660\n",
      "February      559.719\n",
      "March         420.748\n",
      "April         151.242\n",
      "May           417.157\n",
      "June          904.247\n",
      "July         1255.524\n",
      "August        633.390\n",
      "September     349.686\n",
      "October       313.719\n",
      "November      232.420\n",
      "December      568.739\n",
      "Name: kwh, dtype: float64\n"
     ]
    }
   ],
   "source": [
    "months = ['January', 'February', 'March', 'April', 'May', 'June', 'July', 'August',\n",
    "          'September', 'October', 'November', 'December']\n",
    "monthly_usage = df.groupby(df['date'].dt.strftime('%B'))['kwh'].sum().reindex(months)\n",
    "print(monthly_usage)"
   ]
  },
  {
   "cell_type": "markdown",
   "metadata": {
    "id": "gofeuq0c9FZR"
   },
   "source": [
    "If we plotting this data, we'll see differences more clear between months"
   ]
  },
  {
   "cell_type": "code",
   "execution_count": 4,
   "metadata": {
    "id": "5GKU-qcN9YzN"
   },
   "outputs": [
    {
     "data": {
      "image/png": "[encoded data removed]",
      "text/plain": [
       "<Figure size 756x396 with 1 Axes>"
      ]
     },
     "metadata": {
      "needs_background": "light"
     },
     "output_type": "display_data"
    }
   ],
   "source": [
    "fig, ax = plt.subplots()\n",
    "ax_month = ax.bar(monthly_usage.index, monthly_usage)\n",
    "ax.set_xlabel('Months')\n",
    "ax.tick_params(axis='x', rotation=45)\n",
    "ax.set_ylabel('kwh usage')\n",
    "ax.set_title('kwh usage over months')\n",
    "fig.set_size_inches(10.5, 5.5)\n",
    "plt.show()"
   ]
  },
  {
   "cell_type": "markdown",
   "metadata": {
    "id": "ibVhxcX9ya8e"
   },
   "source": [
    "Question 3: What is our electricity usage per weekdays?"
   ]
  },
  {
   "cell_type": "code",
   "execution_count": 5,
   "metadata": {
    "id": "BB7rxoMTyw2q"
   },
   "outputs": [
    {
     "name": "stdout",
     "output_type": "stream",
     "text": [
      "date\n",
      "Monday        905.979\n",
      "Tuesday       906.120\n",
      "Wednesday     933.575\n",
      "Thursday      930.331\n",
      "Friday        940.673\n",
      "Saturday     1111.673\n",
      "Sunday       1120.900\n",
      "Name: kwh, dtype: float64\n"
     ]
    }
   ],
   "source": [
    "weekdays =[ 'Monday', 'Tuesday', 'Wednesday', 'Thursday', 'Friday', 'Saturday', 'Sunday']\n",
    "weekday_usage = df.groupby(df['date'].dt.strftime('%A'))['kwh'].sum().reindex(weekdays)\n",
    "print(weekday_usage)"
   ]
  },
  {
   "cell_type": "markdown",
   "metadata": {
    "id": "dUwvMjo2_ocH"
   },
   "source": [
    "If we plotting this data, we'll see almost every day usage equal except weekend (weekend usage more than others)\n",
    "\n",
    "\n"
   ]
  },
  {
   "cell_type": "code",
   "execution_count": 6,
   "metadata": {
    "id": "SA1alaRAAUoG"
   },
   "outputs": [
    {
     "data": {
      "image/png": "[encoded data removed]",
      "text/plain": [
       "<Figure size 612x324 with 1 Axes>"
      ]
     },
     "metadata": {
      "needs_background": "light"
     },
     "output_type": "display_data"
    }
   ],
   "source": [
    "fig, ax = plt.subplots()\n",
    "ax_weekday = ax.bar(weekday_usage.index, weekday_usage)\n",
    "ax.set_xlabel('Weekdays')\n",
    "ax.set_ylabel('kwh usage')\n",
    "ax.set_title('kwh usage over weekdays')\n",
    "fig.set_size_inches(8.5, 4.5)\n",
    "plt.show()"
   ]
  },
  {
   "cell_type": "markdown",
   "metadata": {
    "id": "vTwlRNJO29k6"
   },
   "source": [
    "Question 4: What is the highest amount of electricity used in a continuous 4 hour period?"
   ]
  },
  {
   "cell_type": "code",
   "execution_count": 7,
   "metadata": {
    "id": "NcRH67mU3FZ9"
   },
   "outputs": [
    {
     "data": {
      "text/plain": [
       "date\n",
       "2014-07-20 16:00:00    14.386\n",
       "Freq: 4H, Name: kwh, dtype: float64"
      ]
     },
     "execution_count": 7,
     "metadata": {},
     "output_type": "execute_result"
    }
   ],
   "source": [
    "hourly_period = df.resample('4H', on='date').kwh.sum()\n",
    "hourly_period[hourly_period == hourly_period.max()]"
   ]
  }
 ],
 "metadata": {
  "colab": {
   "collapsed_sections": [],
   "name": "analysis.ipynb",
   "provenance": []
  },
  "kernelspec": {
   "display_name": "Python 3",
   "language": "python",
   "name": "python3"
  },
  "language_info": {
   "codemirror_mode": {
    "name": "ipython",
    "version": 3
   },
   "file_extension": ".py",
   "mimetype": "text/x-python",
   "name": "python",
   "nbconvert_exporter": "python",
   "pygments_lexer": "ipython3",
   "version": "3.8.6"
  }
 },
 "nbformat": 4,
 "nbformat_minor": 1
}
