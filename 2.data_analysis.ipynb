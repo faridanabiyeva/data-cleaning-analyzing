{
 "cells": [
  {
   "cell_type": "markdown",
   "metadata": {},
   "source": [
    "After cleaning data now we can analyze cleaned data. First we import pandas and matplotlib then read data_cleaned.csv file."
   ]
  },
  {
   "cell_type": "code",
   "execution_count": null,
   "metadata": {
    "id": "OMEgK0c3An40"
   },
   "outputs": [],
   "source": [
    "import pandas as pd\n",
    "import matplotlib.pyplot as plt\n",
    "df = pd.read_csv('data_cleaned.csv', parse_dates =['date'])"
   ]
  },
  {
   "cell_type": "markdown",
   "metadata": {
    "id": "exV7sINXsb0p"
   },
   "source": [
    "Question 1: What is our average hourly electricity usage?"
   ]
  },
  {
   "cell_type": "code",
   "execution_count": null,
   "metadata": {
    "id": "UW2bmA0zwIIq"
   },
   "outputs": [],
   "source": [
    "hourly_ect_usage = df['kwh'].mean()\n",
    "round(hourly_ect_usage, 3)"
   ]
  },
  {
   "cell_type": "markdown",
   "metadata": {
    "id": "WMNokYTOxTqf"
   },
   "source": [
    "Question 2: What is our electricity usage per month? (for ordering months properly we'll reindex it)"
   ]
  },
  {
   "cell_type": "code",
   "execution_count": null,
   "metadata": {
    "id": "pcynDWyHxpta"
   },
   "outputs": [],
   "source": [
    "months = ['January', 'February', 'March', 'April', 'May', 'June', 'July', 'August',\n",
    "          'September', 'October', 'November', 'December']\n",
    "monthly_usage = df.groupby(df['date'].dt.strftime('%B'))['kwh'].sum().reindex(months)\n",
    "print(monthly_usage)"
   ]
  },
  {
   "cell_type": "markdown",
   "metadata": {
    "id": "gofeuq0c9FZR"
   },
   "source": [
    "If we plotting this data, we'll see differences more clear between months"
   ]
  },
  {
   "cell_type": "code",
   "execution_count": null,
   "metadata": {
    "id": "5GKU-qcN9YzN"
   },
   "outputs": [],
   "source": [
    "fig, ax = plt.subplots()\n",
    "ax_month = ax.plot(monthly_usage.index, monthly_usage, '-bo')\n",
    "ax.set_xlabel('Months')\n",
    "ax.set_ylabel('kwh usage')\n",
    "ax.set_title('kwh usage over months')\n",
    "fig.set_size_inches(10.5, 5.5)\n",
    "plt.show()"
   ]
  },
  {
   "cell_type": "markdown",
   "metadata": {
    "id": "ibVhxcX9ya8e"
   },
   "source": [
    "Question 3: What is our electricity usage per weekdays?"
   ]
  },
  {
   "cell_type": "code",
   "execution_count": null,
   "metadata": {
    "id": "BB7rxoMTyw2q"
   },
   "outputs": [],
   "source": [
    "weekdays =[ 'Monday', 'Tuesday', 'Wednesday', 'Thursday', 'Friday', 'Saturday', 'Sunday']\n",
    "weekday_usage = df.groupby(df['date'].dt.strftime('%A'))['kwh'].sum().reindex(weekdays)\n",
    "print(weekday_usage)"
   ]
  },
  {
   "cell_type": "markdown",
   "metadata": {
    "id": "dUwvMjo2_ocH"
   },
   "source": [
    "If we plotting this data, we'll see almost every day usage equal except weekend (weekend usage more than others)\n",
    "\n",
    "\n"
   ]
  },
  {
   "cell_type": "code",
   "execution_count": null,
   "metadata": {
    "id": "SA1alaRAAUoG"
   },
   "outputs": [],
   "source": [
    "fig, ax = plt.subplots()\n",
    "ax_weekday = ax.bar(weekday_usage.index, weekday_usage)\n",
    "ax.set_xlabel('Weekdays')\n",
    "ax.set_ylabel('kwh usage')\n",
    "ax.set_title('kwh usage over weekdays')\n",
    "fig.set_size_inches(10.5, 5.5)\n",
    "plt.show()"
   ]
  },
  {
   "cell_type": "markdown",
   "metadata": {
    "id": "vTwlRNJO29k6"
   },
   "source": [
    "Question 4: What is the highest amount of electricity used in a continuous 4 hour period?"
   ]
  },
  {
   "cell_type": "code",
   "execution_count": null,
   "metadata": {
    "id": "NcRH67mU3FZ9"
   },
   "outputs": [],
   "source": [
    "hourly_period = df.resample('4H', on='date').kwh.sum()\n",
    "hourly_period[hourly_period == hourly_period.max()]"
   ]
  }
 ],
 "metadata": {
  "colab": {
   "collapsed_sections": [],
   "name": "analysis.ipynb",
   "provenance": []
  },
  "kernelspec": {
   "display_name": "Python 3",
   "language": "python",
   "name": "python3"
  },
  "language_info": {
   "codemirror_mode": {
    "name": "ipython",
    "version": 3
   },
   "file_extension": ".py",
   "mimetype": "text/x-python",
   "name": "python",
   "nbconvert_exporter": "python",
   "pygments_lexer": "ipython3",
   "version": "3.8.6"
  }
 },
 "nbformat": 4,
 "nbformat_minor": 1
}
