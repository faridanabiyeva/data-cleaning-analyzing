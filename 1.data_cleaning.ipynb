{
 "cells": [
  {
   "cell_type": "code",
   "execution_count": null,
   "metadata": {
    "id": "N-oVfC9fhOGQ"
   },
   "outputs": [],
   "source": [
    "import pandas as pd\n",
    "import numpy as np\n",
    "import datetime as dt\n",
    "\n",
    "# read csv file\n",
    "df = pd.read_csv(\"data.csv\", header=None)\n",
    "\n",
    "# setting all data to uppercase\n",
    "df[0] = df[0].str.upper()\n",
    "\n",
    "# remove useless characters\n",
    "df[0] = df[0].str.replace(\" \", \"\")\n",
    "df[0] = df[0].str.replace('KWH', '')\n",
    "\n",
    "# parse 'kwh' values and remove it from df[0]\n",
    "kwh = df[0].apply(lambda x: x[(x.rfind(\"_\")+1):])\n",
    "df[0] = df[0].apply(lambda x: x[:(x.find('2014') + 4)])\n",
    "\n",
    "# replace '-'character and adding '-' character to help parsing\n",
    "df[0] = df[0].str.replace('_', '')\n",
    "df[0] = df[0].apply(lambda x: x[:x.find(\"PM\")] + '-' + x[x.find(\"PM\"):] if x.find(\"PM\") != -1\n",
    "                   else (x[:x.find(\"AM\")] + '-' + x[x.find(\"AM\"):]))\n",
    "df[0] = df[0].apply(lambda x: x[:x.find('PM')+2] + '-' + x[x.find('PM')+2:]if x.find(\"PM\") != -1\n",
    "                    else x[:x.find('AM')+2] + '-' + x[x.find('AM')+2:])\n",
    "\n",
    "# remove useless charachters from df[0]\n",
    "def repl(string):\n",
    "  repl_str = ['MONDAY', 'TUESDAY', 'WEDNESDAY', 'THURSDAY', 'FRIDAY', 'SATURDAY',\n",
    "             'SUNDAY', 'MON', 'TUE', 'WED', 'THU', 'FRI', 'SAT', 'SUN', 'TH',\n",
    "             'RD', 'ND', 'ST']\n",
    "  for i in repl_str:\n",
    "    if i in string:\n",
    "      string = string.replace(i, '')\n",
    "  return string\n",
    "\n",
    "df[0] = df[0].apply(repl)\n",
    "\n",
    "# formatting df[0] column to datetime column\n",
    "df[0] = pd.to_datetime(df[0], format='%I-%p-%d-%b-%Y')\n",
    "df = df.rename(columns = {0:'date'})\n",
    "# add 'kwh' seires to dataframe\n",
    "df = df.join([kwh.to_frame(name='kwh')])\n",
    "\n",
    "# setting data types\n",
    "df = df.astype({'kwh': 'float'})\n",
    "\n",
    "# save as csv file\n",
    "df.to_csv('data_cleaned.csv', index=None)\n"
   ]
  }
 ],
 "metadata": {
  "colab": {
   "collapsed_sections": [],
   "name": "data_cleaning.ipynb",
   "provenance": []
  },
  "kernelspec": {
   "display_name": "Python 3",
   "language": "python",
   "name": "python3"
  },
  "language_info": {
   "codemirror_mode": {
    "name": "ipython",
    "version": 3
   },
   "file_extension": ".py",
   "mimetype": "text/x-python",
   "name": "python",
   "nbconvert_exporter": "python",
   "pygments_lexer": "ipython3",
   "version": "3.8.6"
  }
 },
 "nbformat": 4,
 "nbformat_minor": 1
}
